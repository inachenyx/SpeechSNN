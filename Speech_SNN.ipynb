{
  "nbformat": 4,
  "nbformat_minor": 0,
  "metadata": {
    "colab": {
      "provenance": [],
      "gpuType": "T4",
      "authorship_tag": "ABX9TyNcCcwTCUa11NSiHMt9xhYp",
      "include_colab_link": true
    },
    "kernelspec": {
      "name": "python3",
      "display_name": "Python 3"
    },
    "language_info": {
      "name": "python"
    },
    "accelerator": "GPU"
  },
  "cells": [
    {
      "cell_type": "markdown",
      "metadata": {
        "id": "view-in-github",
        "colab_type": "text"
      },
      "source": [
        "<a href=\"https://colab.research.google.com/github/inachenyx/SpeechSNN/blob/main/Speech_SNN.ipynb\" target=\"_parent\"><img src=\"https://colab.research.google.com/assets/colab-badge.svg\" alt=\"Open In Colab\"/></a>"
      ]
    },
    {
      "cell_type": "code",
      "execution_count": 1,
      "metadata": {
        "colab": {
          "base_uri": "https://localhost:8080/"
        },
        "id": "SkGgwpSi_gBd",
        "outputId": "cd5f9d2a-e21b-4ac6-ed78-bca86263c6cc"
      },
      "outputs": [
        {
          "output_type": "stream",
          "name": "stdout",
          "text": [
            "Collecting snntorch\n",
            "  Downloading snntorch-0.9.4-py2.py3-none-any.whl.metadata (15 kB)\n",
            "Downloading snntorch-0.9.4-py2.py3-none-any.whl (125 kB)\n",
            "\u001b[?25l   \u001b[90m━━━━━━━━━━━━━━━━━━━━━━━━━━━━━━━━━━━━━━━━\u001b[0m \u001b[32m0.0/125.6 kB\u001b[0m \u001b[31m?\u001b[0m eta \u001b[36m-:--:--\u001b[0m\r\u001b[2K   \u001b[90m━━━━━━━━━━━━━━━━━━━━━━━━━━━━━━━━━━━━━━━━\u001b[0m \u001b[32m125.6/125.6 kB\u001b[0m \u001b[31m7.4 MB/s\u001b[0m eta \u001b[36m0:00:00\u001b[0m\n",
            "\u001b[?25hInstalling collected packages: snntorch\n",
            "Successfully installed snntorch-0.9.4\n"
          ]
        }
      ],
      "source": [
        "! pip install snntorch"
      ]
    },
    {
      "cell_type": "code",
      "source": [
        "import os\n",
        "import io\n",
        "import numpy as np\n",
        "import pandas as pd\n",
        "import torch\n",
        "from sklearn.preprocessing import MinMaxScaler\n",
        "import matplotlib.pyplot as plt\n",
        "\n",
        "import torch.nn as nn\n",
        "import snntorch as snn\n",
        "from snntorch import surrogate\n",
        "from snntorch import functional as SF"
      ],
      "metadata": {
        "id": "LSrEsU7h_uPa"
      },
      "execution_count": 12,
      "outputs": []
    },
    {
      "cell_type": "markdown",
      "source": [
        "### Upload data from local files (NEEDS MANUAL UPLOAD)"
      ],
      "metadata": {
        "id": "-F6yGBXb_8Cr"
      }
    },
    {
      "cell_type": "code",
      "source": [
        "from google.colab import files\n",
        "uploaded = files.upload()"
      ],
      "metadata": {
        "colab": {
          "base_uri": "https://localhost:8080/",
          "height": 179
        },
        "id": "o3yTlFij_3JJ",
        "outputId": "f9fe1039-a137-411f-e7d4-73cb1b27f0b2"
      },
      "execution_count": 3,
      "outputs": [
        {
          "output_type": "display_data",
          "data": {
            "text/plain": [
              "<IPython.core.display.HTML object>"
            ],
            "text/html": [
              "\n",
              "     <input type=\"file\" id=\"files-25cc936e-ec5e-4df0-b30d-c89d617d7707\" name=\"files[]\" multiple disabled\n",
              "        style=\"border:none\" />\n",
              "     <output id=\"result-25cc936e-ec5e-4df0-b30d-c89d617d7707\">\n",
              "      Upload widget is only available when the cell has been executed in the\n",
              "      current browser session. Please rerun this cell to enable.\n",
              "      </output>\n",
              "      <script>// Copyright 2017 Google LLC\n",
              "//\n",
              "// Licensed under the Apache License, Version 2.0 (the \"License\");\n",
              "// you may not use this file except in compliance with the License.\n",
              "// You may obtain a copy of the License at\n",
              "//\n",
              "//      http://www.apache.org/licenses/LICENSE-2.0\n",
              "//\n",
              "// Unless required by applicable law or agreed to in writing, software\n",
              "// distributed under the License is distributed on an \"AS IS\" BASIS,\n",
              "// WITHOUT WARRANTIES OR CONDITIONS OF ANY KIND, either express or implied.\n",
              "// See the License for the specific language governing permissions and\n",
              "// limitations under the License.\n",
              "\n",
              "/**\n",
              " * @fileoverview Helpers for google.colab Python module.\n",
              " */\n",
              "(function(scope) {\n",
              "function span(text, styleAttributes = {}) {\n",
              "  const element = document.createElement('span');\n",
              "  element.textContent = text;\n",
              "  for (const key of Object.keys(styleAttributes)) {\n",
              "    element.style[key] = styleAttributes[key];\n",
              "  }\n",
              "  return element;\n",
              "}\n",
              "\n",
              "// Max number of bytes which will be uploaded at a time.\n",
              "const MAX_PAYLOAD_SIZE = 100 * 1024;\n",
              "\n",
              "function _uploadFiles(inputId, outputId) {\n",
              "  const steps = uploadFilesStep(inputId, outputId);\n",
              "  const outputElement = document.getElementById(outputId);\n",
              "  // Cache steps on the outputElement to make it available for the next call\n",
              "  // to uploadFilesContinue from Python.\n",
              "  outputElement.steps = steps;\n",
              "\n",
              "  return _uploadFilesContinue(outputId);\n",
              "}\n",
              "\n",
              "// This is roughly an async generator (not supported in the browser yet),\n",
              "// where there are multiple asynchronous steps and the Python side is going\n",
              "// to poll for completion of each step.\n",
              "// This uses a Promise to block the python side on completion of each step,\n",
              "// then passes the result of the previous step as the input to the next step.\n",
              "function _uploadFilesContinue(outputId) {\n",
              "  const outputElement = document.getElementById(outputId);\n",
              "  const steps = outputElement.steps;\n",
              "\n",
              "  const next = steps.next(outputElement.lastPromiseValue);\n",
              "  return Promise.resolve(next.value.promise).then((value) => {\n",
              "    // Cache the last promise value to make it available to the next\n",
              "    // step of the generator.\n",
              "    outputElement.lastPromiseValue = value;\n",
              "    return next.value.response;\n",
              "  });\n",
              "}\n",
              "\n",
              "/**\n",
              " * Generator function which is called between each async step of the upload\n",
              " * process.\n",
              " * @param {string} inputId Element ID of the input file picker element.\n",
              " * @param {string} outputId Element ID of the output display.\n",
              " * @return {!Iterable<!Object>} Iterable of next steps.\n",
              " */\n",
              "function* uploadFilesStep(inputId, outputId) {\n",
              "  const inputElement = document.getElementById(inputId);\n",
              "  inputElement.disabled = false;\n",
              "\n",
              "  const outputElement = document.getElementById(outputId);\n",
              "  outputElement.innerHTML = '';\n",
              "\n",
              "  const pickedPromise = new Promise((resolve) => {\n",
              "    inputElement.addEventListener('change', (e) => {\n",
              "      resolve(e.target.files);\n",
              "    });\n",
              "  });\n",
              "\n",
              "  const cancel = document.createElement('button');\n",
              "  inputElement.parentElement.appendChild(cancel);\n",
              "  cancel.textContent = 'Cancel upload';\n",
              "  const cancelPromise = new Promise((resolve) => {\n",
              "    cancel.onclick = () => {\n",
              "      resolve(null);\n",
              "    };\n",
              "  });\n",
              "\n",
              "  // Wait for the user to pick the files.\n",
              "  const files = yield {\n",
              "    promise: Promise.race([pickedPromise, cancelPromise]),\n",
              "    response: {\n",
              "      action: 'starting',\n",
              "    }\n",
              "  };\n",
              "\n",
              "  cancel.remove();\n",
              "\n",
              "  // Disable the input element since further picks are not allowed.\n",
              "  inputElement.disabled = true;\n",
              "\n",
              "  if (!files) {\n",
              "    return {\n",
              "      response: {\n",
              "        action: 'complete',\n",
              "      }\n",
              "    };\n",
              "  }\n",
              "\n",
              "  for (const file of files) {\n",
              "    const li = document.createElement('li');\n",
              "    li.append(span(file.name, {fontWeight: 'bold'}));\n",
              "    li.append(span(\n",
              "        `(${file.type || 'n/a'}) - ${file.size} bytes, ` +\n",
              "        `last modified: ${\n",
              "            file.lastModifiedDate ? file.lastModifiedDate.toLocaleDateString() :\n",
              "                                    'n/a'} - `));\n",
              "    const percent = span('0% done');\n",
              "    li.appendChild(percent);\n",
              "\n",
              "    outputElement.appendChild(li);\n",
              "\n",
              "    const fileDataPromise = new Promise((resolve) => {\n",
              "      const reader = new FileReader();\n",
              "      reader.onload = (e) => {\n",
              "        resolve(e.target.result);\n",
              "      };\n",
              "      reader.readAsArrayBuffer(file);\n",
              "    });\n",
              "    // Wait for the data to be ready.\n",
              "    let fileData = yield {\n",
              "      promise: fileDataPromise,\n",
              "      response: {\n",
              "        action: 'continue',\n",
              "      }\n",
              "    };\n",
              "\n",
              "    // Use a chunked sending to avoid message size limits. See b/62115660.\n",
              "    let position = 0;\n",
              "    do {\n",
              "      const length = Math.min(fileData.byteLength - position, MAX_PAYLOAD_SIZE);\n",
              "      const chunk = new Uint8Array(fileData, position, length);\n",
              "      position += length;\n",
              "\n",
              "      const base64 = btoa(String.fromCharCode.apply(null, chunk));\n",
              "      yield {\n",
              "        response: {\n",
              "          action: 'append',\n",
              "          file: file.name,\n",
              "          data: base64,\n",
              "        },\n",
              "      };\n",
              "\n",
              "      let percentDone = fileData.byteLength === 0 ?\n",
              "          100 :\n",
              "          Math.round((position / fileData.byteLength) * 100);\n",
              "      percent.textContent = `${percentDone}% done`;\n",
              "\n",
              "    } while (position < fileData.byteLength);\n",
              "  }\n",
              "\n",
              "  // All done.\n",
              "  yield {\n",
              "    response: {\n",
              "      action: 'complete',\n",
              "    }\n",
              "  };\n",
              "}\n",
              "\n",
              "scope.google = scope.google || {};\n",
              "scope.google.colab = scope.google.colab || {};\n",
              "scope.google.colab._files = {\n",
              "  _uploadFiles,\n",
              "  _uploadFilesContinue,\n",
              "};\n",
              "})(self);\n",
              "</script> "
            ]
          },
          "metadata": {}
        },
        {
          "output_type": "stream",
          "name": "stdout",
          "text": [
            "Saving ae.train to ae.train\n",
            "Saving ae.test to ae.test\n",
            "Saving size_ae.train to size_ae.train\n",
            "Saving size_ae.test to size_ae.test\n"
          ]
        }
      ]
    },
    {
      "cell_type": "code",
      "source": [
        "# List uploaded files\n",
        "os.listdir()"
      ],
      "metadata": {
        "colab": {
          "base_uri": "https://localhost:8080/"
        },
        "id": "wwqmFwq9AdL5",
        "outputId": "c9463692-17ed-4234-d710-5894f58f33e7"
      },
      "execution_count": 4,
      "outputs": [
        {
          "output_type": "execute_result",
          "data": {
            "text/plain": [
              "['.config',\n",
              " 'size_ae.train',\n",
              " 'size_ae.test',\n",
              " 'ae.train',\n",
              " 'ae.test',\n",
              " 'sample_data']"
            ]
          },
          "metadata": {},
          "execution_count": 4
        }
      ]
    },
    {
      "cell_type": "markdown",
      "source": [
        "### Read original data (has type bytes)"
      ],
      "metadata": {
        "id": "JhPBffl7CTot"
      }
    },
    {
      "cell_type": "code",
      "source": [
        "with open(\"ae.train\", \"rb\") as f:\n",
        "    train_bytes = f.read()\n",
        "\n",
        "with open(\"ae.test\", \"rb\") as f:\n",
        "    test_bytes = f.read()\n",
        "\n",
        "with open(\"size_ae.train\", \"rb\") as f:\n",
        "    train_counts_bytes = f.read()\n",
        "\n",
        "with open(\"size_ae.test\", \"rb\") as f:\n",
        "    test_counts_bytes = f.read()\n",
        "\n",
        "print(train_bytes[:100]) # bytes containing space-separated float values\n",
        "print(type(train_bytes)) # <class 'bytes'> raw bytes\n",
        "print(test_bytes[:100])\n",
        "print(type(test_bytes)) # <class 'bytes'> raw bytes\n",
        "print(train_counts_bytes)\n",
        "print(type(train_counts_bytes)) # <class 'bytes'> raw bytes\n",
        "print(test_counts_bytes)\n",
        "print(type(test_counts_bytes)) # <class 'bytes'> raw bytes"
      ],
      "metadata": {
        "colab": {
          "base_uri": "https://localhost:8080/"
        },
        "id": "1cBSA1-Ggx8n",
        "outputId": "25467c12-a3f4-481a-b675-c019d41be446"
      },
      "execution_count": 6,
      "outputs": [
        {
          "output_type": "stream",
          "name": "stdout",
          "text": [
            "b'1.860936 -0.207383 0.261557 -0.214562 -0.171253 -0.118167 -0.277557 0.025668 0.126701 -0.306756 -0.2'\n",
            "<class 'bytes'>\n",
            "b'1.635533 0.024848 0.432087 -0.361914 -0.074776 -0.693481 -0.229621 0.261503 -0.089421 -0.020431 -0.0'\n",
            "<class 'bytes'>\n",
            "b'30 30 30 30 30 30 30 30 30\\n'\n",
            "<class 'bytes'>\n",
            "b'31 35 88 44 29 24 40 50 29 \\n'\n",
            "<class 'bytes'>\n"
          ]
        }
      ]
    },
    {
      "cell_type": "markdown",
      "source": [
        "### Get train_counts, test_counts (how many utterances belong to each speaker)"
      ],
      "metadata": {
        "id": "CSp6PaVGF75R"
      }
    },
    {
      "cell_type": "code",
      "source": [
        "def byte_to_list(byte_data):\n",
        "  \"\"\"Decode label counts from raw bytes data to a list of integers\n",
        "\n",
        "    Args:\n",
        "        byte_data (bytes): data read from size_ae.train, size_ae.test\n",
        "\n",
        "    Returns:\n",
        "        List[int]: the decoded label counts\n",
        "    \"\"\"\n",
        "  text = byte_data.decode(\"utf-8\")\n",
        "  list_str = text.strip().split()\n",
        "  list_fl = [int(x) for x in list_str]\n",
        "  # list_fl = list(map(int, list_str))\n",
        "  return list_fl\n",
        "\n",
        "train_counts = byte_to_list(train_counts_bytes)\n",
        "test_counts = byte_to_list(test_counts_bytes)\n",
        "print(train_counts)\n",
        "print(test_counts)"
      ],
      "metadata": {
        "colab": {
          "base_uri": "https://localhost:8080/"
        },
        "id": "nPAS1pUWCx5Q",
        "outputId": "3b5a459e-141a-4420-8c2a-d65b9894dd80"
      },
      "execution_count": 7,
      "outputs": [
        {
          "output_type": "stream",
          "name": "stdout",
          "text": [
            "[30, 30, 30, 30, 30, 30, 30, 30, 30]\n",
            "[31, 35, 88, 44, 29, 24, 40, 50, 29]\n"
          ]
        }
      ]
    },
    {
      "cell_type": "markdown",
      "source": [
        "### Get Latency Encoded Tensors"
      ],
      "metadata": {
        "id": "zymIttYLG_OI"
      }
    },
    {
      "cell_type": "code",
      "source": [
        "def prepare_spike_data(byte_data, label_counts):\n",
        "    \"\"\"Parses raw byte input, assigns speaker labels, pads sequences, and normalizes.\n",
        "    Args:\n",
        "        - byte_data (bytes): raw byte input read from ae.train, ae.test\n",
        "        - label_counts (List[int]): each element represents how many blocks belong to a speaker\n",
        "\n",
        "    Returns:\n",
        "        - torch.Tensor of shape (N, 12, T): padded and normalized data\n",
        "        - torch.Tensor of shape (N,): speaker labels\n",
        "        - int: maximum sequence length (T)\n",
        "    \"\"\"\n",
        "    text = byte_data.decode(\"utf-8\")\n",
        "    blocks = [b.strip() for b in text.strip().split(\"\\n\\n\") if b.strip()]\n",
        "\n",
        "    data_blocks = []\n",
        "    labels = []\n",
        "\n",
        "    for speaker_id, count in enumerate(label_counts, start=1):\n",
        "        for idx in range(count):\n",
        "            lines = blocks[idx].splitlines()\n",
        "            frame_data = [list(map(float, line.strip().split())) for line in lines]\n",
        "            data_blocks.append(np.array(frame_data))  # shape (Ti, 12)\n",
        "            labels.append(speaker_id)\n",
        "\n",
        "    latency_encoded_blocks = []\n",
        "    Tmax = max([block.shape[0] for block in data_blocks])  # maximum time steps\n",
        "\n",
        "    for block in data_blocks:\n",
        "        block = block.T  # shape (12, T)\n",
        "        avg = np.mean(block)\n",
        "        binary_block = (block >= avg).astype(np.float32)  # binarized (12, T)\n",
        "\n",
        "        # Split into T (12, 1) columns\n",
        "        T = binary_block.shape[1]\n",
        "        columns = [binary_block[:, t].reshape(12, 1) for t in range(T)]\n",
        "\n",
        "        # Norm-based latency mapping\n",
        "        norms = np.array([np.linalg.norm(col) for col in columns])\n",
        "        min_norm, max_norm = norms.min(), norms.max()\n",
        "\n",
        "        # Prevent division by zero if all norms are the same\n",
        "        if max_norm - min_norm == 0:\n",
        "            norm_scaled = np.zeros_like(norms)\n",
        "        else:\n",
        "            norm_scaled = ((norms - min_norm) / (max_norm - min_norm)) * 50.0\n",
        "        norm_scaled = norm_scaled.astype(int)  # map to [0, 50]ms\n",
        "\n",
        "        # Create output matrix of shape (12, Tmax * 100)\n",
        "        stim_length = Tmax * 100  # 100ms per time slot\n",
        "        output_matrix = np.zeros((12, stim_length), dtype=np.float32)\n",
        "\n",
        "        for i, col in enumerate(columns):\n",
        "            t_offset = i * 100 + norm_scaled[i]  # place within 100ms window\n",
        "            if t_offset < stim_length:\n",
        "                output_matrix[:, t_offset] = col.flatten()\n",
        "\n",
        "        latency_encoded_blocks.append(output_matrix)\n",
        "\n",
        "    # Stack all (12, Tmax*100) into a tensor of shape (N, 12, Tmax*100)\n",
        "    data_tensor = torch.tensor(np.stack(latency_encoded_blocks), dtype=torch.float32)\n",
        "    label_tensor = torch.tensor(labels, dtype=torch.long)\n",
        "\n",
        "    return data_tensor, label_tensor, Tmax\n"
      ],
      "metadata": {
        "id": "9L2cy4GnRT5e"
      },
      "execution_count": 9,
      "outputs": []
    },
    {
      "cell_type": "code",
      "source": [
        "X_train, y_train, train_T = prepare_spike_data(train_bytes, train_counts)\n",
        "X_test, y_test, test_T = prepare_spike_data(test_bytes, test_counts)\n",
        "\n",
        "print(X_train.shape)  # (270, 12, train_T)\n",
        "print(y_train.shape)  # (270,)\n",
        "print(X_test.shape)  # (370, 12, test_T)\n",
        "print(y_test.shape)  # (270,)\n",
        "print(train_T) # 26\n",
        "print(test_T) # 29"
      ],
      "metadata": {
        "colab": {
          "base_uri": "https://localhost:8080/"
        },
        "id": "V09kCK3dGzES",
        "outputId": "2980b1a9-c792-4d61-f603-bcfbb3bc29c8"
      },
      "execution_count": 10,
      "outputs": [
        {
          "output_type": "stream",
          "name": "stdout",
          "text": [
            "torch.Size([270, 12, 2600])\n",
            "torch.Size([270])\n",
            "torch.Size([370, 12, 2900])\n",
            "torch.Size([370])\n",
            "26\n",
            "29\n"
          ]
        }
      ]
    },
    {
      "cell_type": "markdown",
      "source": [
        "### Visualize latency encoded spike trains"
      ],
      "metadata": {
        "id": "LVqxtnu5Z6hE"
      }
    },
    {
      "cell_type": "code",
      "source": [],
      "metadata": {
        "id": "9aEE55pxZ_l2"
      },
      "execution_count": null,
      "outputs": []
    },
    {
      "cell_type": "markdown",
      "source": [
        "### Training with snnTorch"
      ],
      "metadata": {
        "id": "YS2pJaiOTs-w"
      }
    },
    {
      "cell_type": "code",
      "source": [
        "# All tensors are shaped: (N, 12, Tmax*100)\n",
        "# Labels are integers from 1 to 9 (convert to 0–8 for classification)\n",
        "y_train -= 1\n",
        "y_test -= 1"
      ],
      "metadata": {
        "id": "LOVOjUYzT0tn"
      },
      "execution_count": 11,
      "outputs": []
    },
    {
      "cell_type": "code",
      "source": [
        "import torch\n",
        "import torch.nn as nn\n",
        "import snntorch as snn\n",
        "from snntorch import surrogate\n",
        "from snntorch import functional as SF\n",
        "\n",
        "# Parameters\n",
        "beta = 0.9  # membrane decay\n",
        "num_inputs = X_train.shape[1]  # 12\n",
        "num_steps = X_train.shape[2]   # Tmax * 100\n",
        "num_hidden = 100\n",
        "num_outputs = 9\n",
        "\n",
        "# Define the network\n",
        "class SNN(nn.Module):\n",
        "    def __init__(self):\n",
        "        super().__init__()\n",
        "        self.fc1 = nn.Linear(num_inputs, num_hidden)\n",
        "        self.lif1 = snn.Leaky(beta=beta, spike_grad=surrogate.fast_sigmoid())\n",
        "        self.fc2 = nn.Linear(num_hidden, num_outputs)\n",
        "        self.lif2 = snn.Leaky(beta=beta, spike_grad=surrogate.fast_sigmoid())\n",
        "\n",
        "    def forward(self, x):\n",
        "        spk1_rec, mem1 = [], None\n",
        "        spk2_rec, mem2 = [], None\n",
        "\n",
        "        for step in range(x.size(2)):  # Loop through time steps\n",
        "            input_t = x[:, :, step]\n",
        "            cur1 = self.fc1(input_t)\n",
        "            spk1, mem1 = self.lif1(cur1, mem1)\n",
        "\n",
        "            cur2 = self.fc2(spk1)\n",
        "            spk2, mem2 = self.lif2(cur2, mem2)\n",
        "\n",
        "            spk2_rec.append(spk2)\n",
        "\n",
        "        return torch.stack(spk2_rec, dim=0)\n",
        "\n",
        "model = SNN()\n"
      ],
      "metadata": {
        "id": "v28FyFxbbXqc"
      },
      "execution_count": null,
      "outputs": []
    },
    {
      "cell_type": "code",
      "source": [
        "from torch.utils.data import TensorDataset, DataLoader\n",
        "\n",
        "train_loader = DataLoader(TensorDataset(X_train, y_train), batch_size=64, shuffle=True)\n",
        "test_loader = DataLoader(TensorDataset(X_test, y_test), batch_size=64)\n",
        "\n",
        "optimizer = torch.optim.Adam(model.parameters(), lr=1e-3)\n",
        "loss_fn = SF.mse_count_loss(correct_rate=True)\n",
        "\n",
        "for epoch in range(10):\n",
        "    for batch in train_loader:\n",
        "        x, y = batch\n",
        "        spk_out = model(x)\n",
        "        loss_val = loss_fn(spk_out, y)\n",
        "        optimizer.zero_grad()\n",
        "        loss_val.backward(retain_graph=True)\n",
        "        optimizer.step()\n",
        "    print(f\"Epoch {epoch}: loss = {loss_val.item():.4f}\")"
      ],
      "metadata": {
        "id": "300LTGO4c0ZW"
      },
      "execution_count": null,
      "outputs": []
    },
    {
      "cell_type": "code",
      "source": [
        "def evaluate(model, loader):\n",
        "    correct = 0\n",
        "    total = 0\n",
        "    model.eval()\n",
        "    with torch.no_grad():\n",
        "        for x, y in loader:\n",
        "            spk_out = model(x)\n",
        "            spk_count = spk_out.sum(dim=0)  # Sum over time\n",
        "            preds = spk_count.argmax(dim=1)\n",
        "            correct += (preds == y).sum().item()\n",
        "            total += y.size(0)\n",
        "    return correct / total\n",
        "\n",
        "acc = evaluate(model, test_loader)\n",
        "print(f\"Test Accuracy: {acc * 100:.2f}%\")\n"
      ],
      "metadata": {
        "id": "BsJO_zitc5QB"
      },
      "execution_count": null,
      "outputs": []
    }
  ]
}