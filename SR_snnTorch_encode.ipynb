{
  "cells": [
    {
      "cell_type": "markdown",
      "metadata": {
        "id": "view-in-github",
        "colab_type": "text"
      },
      "source": [
        "<a href=\"https://colab.research.google.com/github/inachenyx/SpeechSNN/blob/main/SR_snnTorch_encode.ipynb\" target=\"_parent\"><img src=\"https://colab.research.google.com/assets/colab-badge.svg\" alt=\"Open In Colab\"/></a>"
      ]
    },
    {
      "cell_type": "code",
      "execution_count": 1,
      "metadata": {
        "colab": {
          "base_uri": "https://localhost:8080/"
        },
        "id": "rCtGOUYAmcnv",
        "outputId": "c545c941-dcae-4f1a-8c34-b378387c1342"
      },
      "outputs": [
        {
          "output_type": "stream",
          "name": "stdout",
          "text": [
            "Collecting snntorch\n",
            "  Downloading snntorch-0.9.4-py2.py3-none-any.whl.metadata (15 kB)\n",
            "Downloading snntorch-0.9.4-py2.py3-none-any.whl (125 kB)\n",
            "\u001b[?25l   \u001b[90m━━━━━━━━━━━━━━━━━━━━━━━━━━━━━━━━━━━━━━━━\u001b[0m \u001b[32m0.0/125.6 kB\u001b[0m \u001b[31m?\u001b[0m eta \u001b[36m-:--:--\u001b[0m\r\u001b[2K   \u001b[90m━━━━━━━━━━━━━━━━━━━━━━━━━━━━━━━━━━━━━━━━\u001b[0m \u001b[32m125.6/125.6 kB\u001b[0m \u001b[31m4.7 MB/s\u001b[0m eta \u001b[36m0:00:00\u001b[0m\n",
            "\u001b[?25hInstalling collected packages: snntorch\n",
            "Successfully installed snntorch-0.9.4\n"
          ]
        }
      ],
      "source": [
        "!pip install snntorch"
      ]
    },
    {
      "cell_type": "code",
      "execution_count": 2,
      "metadata": {
        "id": "WGFnJXXctJFs"
      },
      "outputs": [],
      "source": [
        "import os\n",
        "import io\n",
        "import numpy as np\n",
        "import pandas as pd\n",
        "import snntorch as snn\n",
        "import torch\n",
        "from sklearn.preprocessing import MinMaxScaler\n",
        "import matplotlib.pyplot as plt\n",
        "import snntorch.spikeplot as splt"
      ]
    },
    {
      "cell_type": "markdown",
      "metadata": {
        "id": "lAX2Rfjn_tTW"
      },
      "source": [
        "### Upload local data file (should all be raw bytes)"
      ]
    },
    {
      "cell_type": "code",
      "execution_count": 3,
      "metadata": {
        "colab": {
          "base_uri": "https://localhost:8080/",
          "height": 179
        },
        "id": "bZeb7WyGeXQz",
        "outputId": "72e9d046-caea-4365-81f5-15514e5dfb08"
      },
      "outputs": [
        {
          "output_type": "display_data",
          "data": {
            "text/plain": [
              "<IPython.core.display.HTML object>"
            ],
            "text/html": [
              "\n",
              "     <input type=\"file\" id=\"files-c05a4ccb-b0d0-4d67-9e70-0093afb1fed2\" name=\"files[]\" multiple disabled\n",
              "        style=\"border:none\" />\n",
              "     <output id=\"result-c05a4ccb-b0d0-4d67-9e70-0093afb1fed2\">\n",
              "      Upload widget is only available when the cell has been executed in the\n",
              "      current browser session. Please rerun this cell to enable.\n",
              "      </output>\n",
              "      <script>// Copyright 2017 Google LLC\n",
              "//\n",
              "// Licensed under the Apache License, Version 2.0 (the \"License\");\n",
              "// you may not use this file except in compliance with the License.\n",
              "// You may obtain a copy of the License at\n",
              "//\n",
              "//      http://www.apache.org/licenses/LICENSE-2.0\n",
              "//\n",
              "// Unless required by applicable law or agreed to in writing, software\n",
              "// distributed under the License is distributed on an \"AS IS\" BASIS,\n",
              "// WITHOUT WARRANTIES OR CONDITIONS OF ANY KIND, either express or implied.\n",
              "// See the License for the specific language governing permissions and\n",
              "// limitations under the License.\n",
              "\n",
              "/**\n",
              " * @fileoverview Helpers for google.colab Python module.\n",
              " */\n",
              "(function(scope) {\n",
              "function span(text, styleAttributes = {}) {\n",
              "  const element = document.createElement('span');\n",
              "  element.textContent = text;\n",
              "  for (const key of Object.keys(styleAttributes)) {\n",
              "    element.style[key] = styleAttributes[key];\n",
              "  }\n",
              "  return element;\n",
              "}\n",
              "\n",
              "// Max number of bytes which will be uploaded at a time.\n",
              "const MAX_PAYLOAD_SIZE = 100 * 1024;\n",
              "\n",
              "function _uploadFiles(inputId, outputId) {\n",
              "  const steps = uploadFilesStep(inputId, outputId);\n",
              "  const outputElement = document.getElementById(outputId);\n",
              "  // Cache steps on the outputElement to make it available for the next call\n",
              "  // to uploadFilesContinue from Python.\n",
              "  outputElement.steps = steps;\n",
              "\n",
              "  return _uploadFilesContinue(outputId);\n",
              "}\n",
              "\n",
              "// This is roughly an async generator (not supported in the browser yet),\n",
              "// where there are multiple asynchronous steps and the Python side is going\n",
              "// to poll for completion of each step.\n",
              "// This uses a Promise to block the python side on completion of each step,\n",
              "// then passes the result of the previous step as the input to the next step.\n",
              "function _uploadFilesContinue(outputId) {\n",
              "  const outputElement = document.getElementById(outputId);\n",
              "  const steps = outputElement.steps;\n",
              "\n",
              "  const next = steps.next(outputElement.lastPromiseValue);\n",
              "  return Promise.resolve(next.value.promise).then((value) => {\n",
              "    // Cache the last promise value to make it available to the next\n",
              "    // step of the generator.\n",
              "    outputElement.lastPromiseValue = value;\n",
              "    return next.value.response;\n",
              "  });\n",
              "}\n",
              "\n",
              "/**\n",
              " * Generator function which is called between each async step of the upload\n",
              " * process.\n",
              " * @param {string} inputId Element ID of the input file picker element.\n",
              " * @param {string} outputId Element ID of the output display.\n",
              " * @return {!Iterable<!Object>} Iterable of next steps.\n",
              " */\n",
              "function* uploadFilesStep(inputId, outputId) {\n",
              "  const inputElement = document.getElementById(inputId);\n",
              "  inputElement.disabled = false;\n",
              "\n",
              "  const outputElement = document.getElementById(outputId);\n",
              "  outputElement.innerHTML = '';\n",
              "\n",
              "  const pickedPromise = new Promise((resolve) => {\n",
              "    inputElement.addEventListener('change', (e) => {\n",
              "      resolve(e.target.files);\n",
              "    });\n",
              "  });\n",
              "\n",
              "  const cancel = document.createElement('button');\n",
              "  inputElement.parentElement.appendChild(cancel);\n",
              "  cancel.textContent = 'Cancel upload';\n",
              "  const cancelPromise = new Promise((resolve) => {\n",
              "    cancel.onclick = () => {\n",
              "      resolve(null);\n",
              "    };\n",
              "  });\n",
              "\n",
              "  // Wait for the user to pick the files.\n",
              "  const files = yield {\n",
              "    promise: Promise.race([pickedPromise, cancelPromise]),\n",
              "    response: {\n",
              "      action: 'starting',\n",
              "    }\n",
              "  };\n",
              "\n",
              "  cancel.remove();\n",
              "\n",
              "  // Disable the input element since further picks are not allowed.\n",
              "  inputElement.disabled = true;\n",
              "\n",
              "  if (!files) {\n",
              "    return {\n",
              "      response: {\n",
              "        action: 'complete',\n",
              "      }\n",
              "    };\n",
              "  }\n",
              "\n",
              "  for (const file of files) {\n",
              "    const li = document.createElement('li');\n",
              "    li.append(span(file.name, {fontWeight: 'bold'}));\n",
              "    li.append(span(\n",
              "        `(${file.type || 'n/a'}) - ${file.size} bytes, ` +\n",
              "        `last modified: ${\n",
              "            file.lastModifiedDate ? file.lastModifiedDate.toLocaleDateString() :\n",
              "                                    'n/a'} - `));\n",
              "    const percent = span('0% done');\n",
              "    li.appendChild(percent);\n",
              "\n",
              "    outputElement.appendChild(li);\n",
              "\n",
              "    const fileDataPromise = new Promise((resolve) => {\n",
              "      const reader = new FileReader();\n",
              "      reader.onload = (e) => {\n",
              "        resolve(e.target.result);\n",
              "      };\n",
              "      reader.readAsArrayBuffer(file);\n",
              "    });\n",
              "    // Wait for the data to be ready.\n",
              "    let fileData = yield {\n",
              "      promise: fileDataPromise,\n",
              "      response: {\n",
              "        action: 'continue',\n",
              "      }\n",
              "    };\n",
              "\n",
              "    // Use a chunked sending to avoid message size limits. See b/62115660.\n",
              "    let position = 0;\n",
              "    do {\n",
              "      const length = Math.min(fileData.byteLength - position, MAX_PAYLOAD_SIZE);\n",
              "      const chunk = new Uint8Array(fileData, position, length);\n",
              "      position += length;\n",
              "\n",
              "      const base64 = btoa(String.fromCharCode.apply(null, chunk));\n",
              "      yield {\n",
              "        response: {\n",
              "          action: 'append',\n",
              "          file: file.name,\n",
              "          data: base64,\n",
              "        },\n",
              "      };\n",
              "\n",
              "      let percentDone = fileData.byteLength === 0 ?\n",
              "          100 :\n",
              "          Math.round((position / fileData.byteLength) * 100);\n",
              "      percent.textContent = `${percentDone}% done`;\n",
              "\n",
              "    } while (position < fileData.byteLength);\n",
              "  }\n",
              "\n",
              "  // All done.\n",
              "  yield {\n",
              "    response: {\n",
              "      action: 'complete',\n",
              "    }\n",
              "  };\n",
              "}\n",
              "\n",
              "scope.google = scope.google || {};\n",
              "scope.google.colab = scope.google.colab || {};\n",
              "scope.google.colab._files = {\n",
              "  _uploadFiles,\n",
              "  _uploadFilesContinue,\n",
              "};\n",
              "})(self);\n",
              "</script> "
            ]
          },
          "metadata": {}
        },
        {
          "output_type": "stream",
          "name": "stdout",
          "text": [
            "Saving ae.train to ae.train\n",
            "Saving ae.test to ae.test\n",
            "Saving size_ae.train to size_ae.train\n",
            "Saving size_ae.test to size_ae.test\n"
          ]
        }
      ],
      "source": [
        "from google.colab import files\n",
        "uploaded = files.upload()"
      ]
    },
    {
      "cell_type": "code",
      "execution_count": 4,
      "metadata": {
        "colab": {
          "base_uri": "https://localhost:8080/"
        },
        "id": "FlQzhCTmjWOZ",
        "outputId": "367d9772-4c5c-4c37-bf40-62325039f88d"
      },
      "outputs": [
        {
          "output_type": "execute_result",
          "data": {
            "text/plain": [
              "['.config',\n",
              " 'ae.train',\n",
              " 'size_ae.train',\n",
              " 'ae.test',\n",
              " 'size_ae.test',\n",
              " 'sample_data']"
            ]
          },
          "metadata": {},
          "execution_count": 4
        }
      ],
      "source": [
        "# List uploaded files\n",
        "os.listdir()"
      ]
    },
    {
      "cell_type": "code",
      "execution_count": 5,
      "metadata": {
        "id": "hE4uq2H5-Shv"
      },
      "outputs": [],
      "source": [
        "# # !!!ONLY remove files from previous upload AS NEEDED!!!\n",
        "# files_to_remove = ['size_ae (1).train', 'ae (1).test', 'size_ae (1).test']\n",
        "# for fname in files_to_remove:\n",
        "#     if os.path.exists(fname):\n",
        "#         os.remove(fname)\n",
        "\n",
        "# # Check that they're gone\n",
        "# print(os.listdir())"
      ]
    },
    {
      "cell_type": "markdown",
      "metadata": {
        "id": "58u95rbcAMOb"
      },
      "source": [
        "### Read and explore data from uploaded file"
      ]
    },
    {
      "cell_type": "code",
      "execution_count": 13,
      "metadata": {
        "colab": {
          "base_uri": "https://localhost:8080/"
        },
        "id": "q5V05-wXyHKI",
        "outputId": "4de7699c-58aa-47a7-c011-196a6fbfe9f9"
      },
      "outputs": [
        {
          "output_type": "stream",
          "name": "stdout",
          "text": [
            "b'1.860936 -0.207383 0.261557 -0.214562 -0.171253 -0.118167 -0.277557 0.025668 0.126701 -0.306756 -0.2'\n",
            "<class 'bytes'>\n",
            "b'1.635533 0.024848 0.432087 -0.361914 -0.074776 -0.693481 -0.229621 0.261503 -0.089421 -0.020431 -0.0'\n",
            "<class 'bytes'>\n",
            "b'30 30 30 30 30 30 30 30 30\\n'\n",
            "<class 'bytes'>\n",
            "b'31 35 88 44 29 24 40 50 29 \\n'\n",
            "<class 'bytes'>\n"
          ]
        }
      ],
      "source": [
        "with open(\"ae.train\", \"rb\") as f:\n",
        "    train_data = f.read()\n",
        "print(train_data[:100]) # contains space-separated float values\n",
        "print(type(train_data)) # <class 'bytes'> raw bytes\n",
        "\n",
        "with open(\"ae.test\", \"rb\") as f:\n",
        "    test_data = f.read()\n",
        "print(test_data[:100]) # contains space-separated float values\n",
        "print(type(test_data)) # <class 'bytes'> raw bytes\n",
        "\n",
        "with open(\"size_ae.train\", \"rb\") as f:\n",
        "    train_label_counts = f.read()\n",
        "print(train_label_counts) # contains space-separated float values\n",
        "print(type(train_label_counts)) # <class 'bytes'> raw bytes\n",
        "\n",
        "with open(\"size_ae.test\", \"rb\") as f:\n",
        "    test_label_counts = f.read()\n",
        "print(test_label_counts) # contains space-separated float values\n",
        "print(type(test_label_counts)) # <class 'bytes'> raw bytes"
      ]
    },
    {
      "cell_type": "markdown",
      "metadata": {
        "id": "god9KMU4n2DG"
      },
      "source": [
        "### Function that prepares data for latency encoding"
      ]
    },
    {
      "cell_type": "code",
      "execution_count": 7,
      "metadata": {
        "id": "U_Rq3uPVkz8c"
      },
      "outputs": [],
      "source": [
        "def prepare_spike_data(byte_data, label_counts):\n",
        "    \"\"\"Parses raw byte input, assigns speaker labels, pads sequences, and normalizes.\n",
        "\n",
        "    Args:\n",
        "        - byte_data (bytes): raw byte input read from ae.train, ae.test\n",
        "        - label_counts (List[int]): each element represents how many blocks belong to a speaker\n",
        "\n",
        "    Returns:\n",
        "        - torch.Tensor of shape (N, 12, T): padded and normalized data\n",
        "        - torch.Tensor of shape (N,): speaker labels\n",
        "        - int: maximum sequence length (T)\n",
        "    \"\"\"\n",
        "    # Step 1: Decode bytes to string\n",
        "    text = byte_data.decode(\"utf-8\")\n",
        "\n",
        "    # Step 2: Split into blocks by blank lines\n",
        "    blocks = [b.strip() for b in text.strip().split(\"\\n\\n\") if b.strip()]\n",
        "    # .strip() removes any leading/trailing blank lines; split at double new lines; \"if b.strip()\" is True if the stripped string is not empty, and False if it is empty.\n",
        "    # Type: List[str], a clean list of strings, each string contains one block representing one sample/utterance\n",
        "\n",
        "    data_blocks = [] # eventually a List[np.ndarray]\n",
        "    labels = [] # one label per block\n",
        "\n",
        "    index = 0\n",
        "    for speaker_id, count in enumerate(label_counts, start=1):  # speaker labels start at 1\n",
        "        for _ in range(count): # sample size = number of blocks\n",
        "            lines = blocks[index].splitlines() # a list of substrings, divided using line breaks as delimiters\n",
        "            frame_data = [list(map(float, line.strip().split())) for line in lines] # for each line, further split to strings of single numbers, divided using whitespaces, e.g., \"1.2 2.3 3.4\" → [\"1.2\", \"2.3\", \"3.4\"]\n",
        "            # and map the list of strings to a list of floats, e.g.[\"1.2\", \"2.3\", \"3.4\"] → [1.2, 2.3, 3.4]; produces a list of lists → a 2D array, shape: (T,12)\n",
        "            data_blocks.append(np.array(frame_data))  # forms a list of (T, 12) arrays\n",
        "            labels.append(speaker_id)\n",
        "            index += 1\n",
        "\n",
        "    # Step 3: Determine max time length for padding\n",
        "    max_len = max([block.shape[0] for block in data_blocks])\n",
        "\n",
        "    # Step 4: Pad sequences with zeros to max_len\n",
        "    padded_blocks = []\n",
        "    for block in data_blocks:\n",
        "        T = block.shape[0]\n",
        "        if T < max_len:\n",
        "            pad = np.zeros((max_len - T, block.shape[1]))\n",
        "            block = np.vstack([block, pad]) # (max_len, 12) array\n",
        "        padded_blocks.append(block) # list of (max_len, 12) arrays\n",
        "\n",
        "    padded_array = np.stack(padded_blocks)  # shape: (N, T, 12)\n",
        "\n",
        "    # Step 5: Normalize all features to 0-1 using MinMaxScaler\n",
        "    N, T, F = padded_array.shape\n",
        "    scaler = MinMaxScaler()\n",
        "    flat = padded_array.reshape(-1, F)\n",
        "    normalized = scaler.fit_transform(flat).reshape(N, T, F)\n",
        "\n",
        "    # Step 6: Convert to torch tensor and permute to (N, 12, T)\n",
        "    data_tensor = torch.tensor(normalized, dtype=torch.float32).permute(0, 2, 1) # changes the shape from (N, T, 12) to (N, 12, T)\n",
        "    label_tensor = torch.tensor(labels, dtype=torch.long)\n",
        "\n",
        "    return data_tensor, label_tensor, max_len"
      ]
    },
    {
      "cell_type": "code",
      "execution_count": 8,
      "metadata": {
        "colab": {
          "base_uri": "https://localhost:8080/"
        },
        "id": "7FbuBXTl3N1w",
        "outputId": "d424fe29-63eb-4f40-eae5-849e8ad50a9a"
      },
      "outputs": [
        {
          "output_type": "stream",
          "name": "stdout",
          "text": [
            "torch.Size([270, 12, 26])\n",
            "torch.Size([270])\n",
            "26\n",
            "29\n"
          ]
        }
      ],
      "source": [
        "with open(\"ae.train\", \"rb\") as f:\n",
        "    train_bytes = f.read()\n",
        "\n",
        "with open(\"ae.test\", \"rb\") as f:\n",
        "    test_bytes = f.read()\n",
        "\n",
        "train_counts = [30] * 9\n",
        "test_counts = [31, 35, 88, 44, 29, 24, 40, 50, 29]\n",
        "\n",
        "X_train, y_train, train_T = prepare_spike_data(train_bytes, train_counts)\n",
        "X_test, y_test, test_T = prepare_spike_data(test_bytes, test_counts)\n",
        "\n",
        "print(X_train.shape)  # (270, 12, train_T)\n",
        "print(y_train.shape)  # (270,)\n",
        "print(train_T)\n",
        "print(test_T)"
      ]
    },
    {
      "cell_type": "code",
      "execution_count": 9,
      "metadata": {
        "colab": {
          "base_uri": "https://localhost:8080/"
        },
        "id": "SvrjcH8y3Qct",
        "outputId": "6cdca56a-04b1-463d-a4ef-11142753dd88"
      },
      "outputs": [
        {
          "output_type": "stream",
          "name": "stdout",
          "text": [
            "torch.Size([100, 270, 12, 26])\n"
          ]
        }
      ],
      "source": [
        "import snntorch.spikegen as spikegen\n",
        "\n",
        "spike_train = spikegen.latency(X_train, num_steps=100, tau=5, threshold=0.01, normalize=True, linear=True)\n",
        "# higher tau -> slower firing,\n",
        "print(spike_train.shape)"
      ]
    },
    {
      "cell_type": "code",
      "execution_count": 14,
      "metadata": {
        "colab": {
          "base_uri": "https://localhost:8080/",
          "height": 487
        },
        "id": "Vgd965Ro4phb",
        "outputId": "420f017c-5d1c-4737-c83b-6a4e0f374407"
      },
      "outputs": [
        {
          "output_type": "display_data",
          "data": {
            "text/plain": [
              "<Figure size 1000x500 with 1 Axes>"
            ],
            "image/png": "[encoded data removed]"
          },
          "metadata": {}
        }
      ],
      "source": [
        "fig = plt.figure(facecolor=\"w\", figsize=(10, 5))\n",
        "ax = fig.add_subplot(111)\n",
        "splt.raster(spike_train[:, 6].view(100, -1), ax, s=25, c=\"black\")\n",
        "\n",
        "plt.title(\"Input Layer\")\n",
        "plt.xlabel(\"Time step\")\n",
        "plt.ylabel(\"Neuron Number\")\n",
        "plt.show()"
      ]
    },
    {
      "cell_type": "code",
      "execution_count": 11,
      "metadata": {
        "colab": {
          "base_uri": "https://localhost:8080/"
        },
        "id": "TjDPOLIqdCaf",
        "outputId": "7eb10b23-ac52-4058-8af6-7589f827ff79"
      },
      "outputs": [
        {
          "output_type": "stream",
          "name": "stdout",
          "text": [
            "torch.Size([100, 12, 26])\n"
          ]
        }
      ],
      "source": [
        "print(spike_train[:, 6].shape)"
      ]
    },
    {
      "cell_type": "code",
      "execution_count": 12,
      "metadata": {
        "colab": {
          "base_uri": "https://localhost:8080/"
        },
        "id": "3c93NiV74uMY",
        "outputId": "9acbe550-0eac-4d4e-dfc4-efe478629778"
      },
      "outputs": [
        {
          "output_type": "stream",
          "name": "stdout",
          "text": [
            "          0         1         2         3         4         5         6   \\\n",
            "0   1.635533  0.024848  0.432087 -0.361914 -0.074776 -0.693481 -0.229621   \n",
            "1   1.547694  0.008754  0.319101 -0.297440 -0.007617 -0.636042 -0.296480   \n",
            "2   1.602593 -0.210520  0.280175 -0.233207 -0.024576 -0.592074 -0.239185   \n",
            "3   1.672665 -0.343458  0.263109 -0.167267  0.043357 -0.564522 -0.286775   \n",
            "4   1.748497 -0.404425  0.238913 -0.152473  0.135756 -0.513615 -0.339162   \n",
            "5   1.870264 -0.547399  0.248318 -0.170991  0.121421 -0.418381 -0.276134   \n",
            "6   1.682187 -0.401484  0.093114 -0.119936  0.102706 -0.358395 -0.204987   \n",
            "7   1.745937 -0.417672  0.179397 -0.282905  0.235438 -0.350983 -0.195268   \n",
            "8   1.453572 -0.286032  0.186518 -0.237188  0.322850 -0.245160 -0.276801   \n",
            "9   1.416367 -0.410469  0.352763 -0.211245  0.354378 -0.165260 -0.328168   \n",
            "10  1.466251 -0.385350  0.294102 -0.109096  0.418092 -0.220405 -0.328038   \n",
            "11  1.515589 -0.370543  0.357567 -0.050578  0.379828 -0.207061 -0.333240   \n",
            "12  1.321718 -0.311942  0.462991  0.144054  0.260473 -0.186420 -0.406317   \n",
            "13  1.297911 -0.398088  0.596941  0.122182  0.335530 -0.230978 -0.400463   \n",
            "14  1.487302 -0.562759  0.821156  0.022307  0.372292 -0.282325 -0.476835   \n",
            "15  1.547938 -0.579402  0.765664  0.042680  0.355656 -0.275494 -0.424934   \n",
            "16  1.546531 -0.556976  0.712057  0.072760  0.338227 -0.271046 -0.331239   \n",
            "17  1.508858 -0.700941  0.839349  0.134621  0.281151 -0.296476 -0.324758   \n",
            "18  1.388998 -0.728562  0.801037  0.101208  0.287227 -0.065235 -0.363350   \n",
            "19  1.346025 -0.519155  0.651902 -0.296536 -0.112782 -0.099619 -0.115291   \n",
            "20  1.383691 -0.598065  0.647915 -0.217294 -0.068715 -0.083936 -0.131485   \n",
            "21  1.405958 -0.555516  0.752111 -0.216131  0.065364 -0.098790 -0.230630   \n",
            "22  1.412603 -0.671019  0.589594 -0.230615  0.063027  0.018982 -0.144944   \n",
            "23  1.446064 -0.936608  0.490718 -0.338223  0.046952  0.149930 -0.112616   \n",
            "24  1.400231 -0.683940  0.489114 -0.321042  0.127285  0.097517 -0.130539   \n",
            "25  1.376047 -0.595044  0.404420 -0.081591  0.162077  0.135335 -0.161962   \n",
            "26  1.387501 -0.662854  0.476828  0.063931  0.162819  0.187999 -0.219977   \n",
            "27  1.361794 -0.702082  0.674177  0.142675  0.210557  0.069994 -0.225654   \n",
            "28  1.054153 -0.569813  0.945773  0.186283  0.324873 -0.126414 -0.268446   \n",
            "29  0.894543 -0.529290  1.042762  0.147954  0.352601 -0.030290 -0.206615   \n",
            "30  0.839384 -0.513709  1.122638  0.222671  0.357270 -0.038884 -0.202166   \n",
            "31  0.755131 -0.580494  1.185302  0.267167  0.424501  0.014358 -0.233749   \n",
            "32  0.722792 -0.507053  1.199358  0.249450  0.463566  0.093622 -0.152855   \n",
            "33  0.630548 -0.423411  1.170455  0.288878  0.393472  0.166311 -0.055463   \n",
            "34  0.560397 -0.376657  1.122267  0.419521  0.314551  0.141812 -0.014792   \n",
            "35  0.569919 -0.426436  1.328993  0.322980  0.412969  0.133677 -0.113957   \n",
            "36  1.512185 -0.333500  0.471234 -0.384034 -0.210589 -0.370054 -0.181539   \n",
            "37  1.655640 -0.391342  0.517804 -0.464914 -0.156108 -0.360399 -0.254421   \n",
            "38  1.661793 -0.402195  0.549835 -0.482320 -0.161172 -0.339728 -0.247079   \n",
            "39  1.737399 -0.482062  0.598729 -0.503786 -0.149053 -0.306979 -0.276269   \n",
            "\n",
            "          7         8         9         10        11  \n",
            "0   0.261503 -0.089421 -0.020431 -0.008612  0.139754  \n",
            "1   0.262700 -0.118514 -0.085128  0.030408  0.118123  \n",
            "2   0.253176 -0.104336 -0.093679 -0.004921  0.130402  \n",
            "3   0.230736 -0.122032 -0.099552  0.001257  0.113616  \n",
            "4   0.221830 -0.143803 -0.099815  0.002327  0.065812  \n",
            "5   0.177995 -0.131599 -0.132569 -0.066062  0.058135  \n",
            "6   0.172810 -0.108218 -0.204713 -0.148013  0.060795  \n",
            "7   0.154338 -0.193545 -0.193992 -0.202009  0.072734  \n",
            "8   0.069911 -0.206899 -0.195329 -0.126377  0.048130  \n",
            "9  -0.044124 -0.182794 -0.192191 -0.103902  0.103290  \n",
            "10 -0.092659 -0.184805 -0.142367 -0.134880  0.077458  \n",
            "11 -0.103308 -0.170728 -0.140336 -0.141500  0.029781  \n",
            "12 -0.180396 -0.062192 -0.176076 -0.102425  0.001619  \n",
            "13 -0.166666 -0.108452 -0.163514 -0.093735  0.015284  \n",
            "14 -0.110096 -0.180340 -0.185136 -0.109658  0.097182  \n",
            "15 -0.126804 -0.227243 -0.186781 -0.059158  0.117885  \n",
            "16 -0.159139 -0.248844 -0.159776 -0.064375  0.133143  \n",
            "17 -0.136773 -0.219273 -0.095920 -0.148070  0.069490  \n",
            "18 -0.138497 -0.127783 -0.235129 -0.067680  0.108629  \n",
            "19  0.339611 -0.003044 -0.363407 -0.026334  0.038856  \n",
            "20  0.236828 -0.085273 -0.309786  0.053105  0.041171  \n",
            "21  0.131239 -0.160727 -0.230074  0.070663  0.047138  \n",
            "22  0.133128 -0.178021 -0.308340 -0.052759  0.076140  \n",
            "23  0.121433 -0.139627 -0.357133 -0.085795  0.089443  \n",
            "24  0.091988 -0.198951 -0.387992 -0.120141  0.106324  \n",
            "25 -0.044528 -0.204831 -0.384834 -0.071462  0.171193  \n",
            "26 -0.057997 -0.238385 -0.424237 -0.004846  0.192549  \n",
            "27 -0.066810 -0.285646 -0.307568  0.080081  0.086813  \n",
            "28 -0.016307 -0.274511 -0.155997  0.066983 -0.075748  \n",
            "29 -0.042117 -0.308631 -0.126849  0.099367 -0.129332  \n",
            "30  0.021400 -0.283823 -0.167173  0.089642 -0.173624  \n",
            "31  0.033737 -0.267625 -0.135804  0.092472 -0.243628  \n",
            "32 -0.069479 -0.288076 -0.023773  0.070651 -0.258437  \n",
            "33 -0.183218 -0.283370  0.082538  0.020099 -0.294943  \n",
            "34 -0.189027 -0.216243  0.083488 -0.035698 -0.278659  \n",
            "35 -0.083313 -0.161285  0.085044 -0.053023 -0.323840  \n",
            "36  0.350905 -0.018020 -0.189616  0.043861  0.071755  \n",
            "37  0.323730 -0.035221 -0.234070  0.050662  0.099892  \n",
            "38  0.310328 -0.090744 -0.234772  0.070845  0.064375  \n",
            "39  0.264726 -0.137306 -0.235484  0.077018  0.054427  \n",
            "(5687, 12)\n"
          ]
        }
      ],
      "source": [
        "# Decode the bytes to a string\n",
        "decoded = test_data.decode('utf-8')\n",
        "\n",
        "# Wrap it in a StringIO buffer so pandas can read it like a file\n",
        "df = pd.read_csv(io.StringIO(decoded), sep='\\s+', header=None) # separate by space\n",
        "\n",
        "print(df.head(40))\n",
        "print(df.shape)"
      ]
    }
  ],
  "metadata": {
    "colab": {
      "provenance": [],
      "authorship_tag": "ABX9TyPzEwuHXEsqpBVWMCrcNwib",
      "include_colab_link": true
    },
    "kernelspec": {
      "display_name": "Python 3",
      "name": "python3"
    },
    "language_info": {
      "name": "python"
    }
  },
  "nbformat": 4,
  "nbformat_minor": 0
}