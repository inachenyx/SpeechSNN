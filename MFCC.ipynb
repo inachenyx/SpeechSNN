{
  "nbformat": 4,
  "nbformat_minor": 0,
  "metadata": {
    "colab": {
      "provenance": [],
      "authorship_tag": "ABX9TyPlR3LbWsSO0OB4TNfgN70R",
      "include_colab_link": true
    },
    "kernelspec": {
      "name": "python3",
      "display_name": "Python 3"
    },
    "language_info": {
      "name": "python"
    }
  },
  "cells": [
    {
      "cell_type": "markdown",
      "metadata": {
        "id": "view-in-github",
        "colab_type": "text"
      },
      "source": [
        "<a href=\"https://colab.research.google.com/github/inachenyx/SpeechSNN/blob/main/MFCC.ipynb\" target=\"_parent\"><img src=\"https://colab.research.google.com/assets/colab-badge.svg\" alt=\"Open In Colab\"/></a>"
      ]
    },
    {
      "cell_type": "markdown",
      "source": [
        "### Feature scaling (MFCC feature extraction)"
      ],
      "metadata": {
        "id": "hC-0IleHn6JY"
      }
    },
    {
      "cell_type": "code",
      "execution_count": null,
      "metadata": {
        "id": "E8nG3WVklwG4"
      },
      "outputs": [],
      "source": [
        "from sklearn import preprocessing\n",
        "def extract_features(audio,rate):\n",
        "   mfcc_feature = mfcc.mfcc(audio,rate, winlen=0.020,preemph=0.95,numcep=20,nfft=1024,ceplifter=15,highfreq=6000,nfilt=55,appendEnergy=False)\n",
        "   mfcc_feature = preprocessing.scale(mfcc_feature)\n",
        "   delta = calculate_delta(mfcc_feature)\n",
        "   combined = np.hstack((mfcc_feature,delta))\n",
        "   return combined"
      ]
    },
    {
      "cell_type": "markdown",
      "source": [
        "### Stereo to mono format"
      ],
      "metadata": {
        "id": "kbNzjM54oEfP"
      }
    },
    {
      "cell_type": "code",
      "source": [
        "from pydub import AudioSegment\n",
        "mysound = AudioSegment.from_wav(\"stereo_infile.wav\")\n",
        "# set mono channel\n",
        "mysound = mysound.set_channels(1)\n",
        "# save the result\n",
        "mysound.export(\"mono_outfile.wav\", format=\"wav\")"
      ],
      "metadata": {
        "id": "L9SAKUd_n3xj"
      },
      "execution_count": null,
      "outputs": []
    }
  ]
}